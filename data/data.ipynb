{
 "cells": [
  {
   "attachments": {},
   "cell_type": "markdown",
   "metadata": {},
   "source": [
    "## Dev Notebook\n",
    "Getting and preparing the data. "
   ]
  },
  {
   "cell_type": "code",
   "execution_count": 23,
   "metadata": {},
   "outputs": [],
   "source": [
    "import requests\n",
    "import pandas as pd"
   ]
  },
  {
   "attachments": {},
   "cell_type": "markdown",
   "metadata": {},
   "source": [
    "#### Webscrapping"
   ]
  },
  {
   "cell_type": "code",
   "execution_count": 24,
   "metadata": {},
   "outputs": [
    {
     "name": "stdout",
     "output_type": "stream",
     "text": [
      "200\n"
     ]
    }
   ],
   "source": [
    "url = \"https://finance.yahoo.com/quote/TSLA/history?period1=1523836800&period2=1681603200&interval=1d&filter=history&frequency=1d&includeAdjustedClose=true\"\n",
    "\n",
    "resp = requests.get(url, headers={'User-Agent': 'Mozilla/5.0'})\n",
    "\n",
    "print(resp.status_code)"
   ]
  },
  {
   "cell_type": "code",
   "execution_count": 25,
   "metadata": {},
   "outputs": [
    {
     "data": {
      "text/html": [
       "<div>\n",
       "<style scoped>\n",
       "    .dataframe tbody tr th:only-of-type {\n",
       "        vertical-align: middle;\n",
       "    }\n",
       "\n",
       "    .dataframe tbody tr th {\n",
       "        vertical-align: top;\n",
       "    }\n",
       "\n",
       "    .dataframe thead th {\n",
       "        text-align: right;\n",
       "    }\n",
       "</style>\n",
       "<table border=\"1\" class=\"dataframe\">\n",
       "  <thead>\n",
       "    <tr style=\"text-align: right;\">\n",
       "      <th></th>\n",
       "      <th>Date</th>\n",
       "      <th>Open</th>\n",
       "      <th>High</th>\n",
       "      <th>Low</th>\n",
       "      <th>Close*</th>\n",
       "      <th>Adj Close**</th>\n",
       "      <th>Volume</th>\n",
       "    </tr>\n",
       "  </thead>\n",
       "  <tbody>\n",
       "    <tr>\n",
       "      <th>0</th>\n",
       "      <td>Apr 14, 2023</td>\n",
       "      <td>183.95</td>\n",
       "      <td>186.28</td>\n",
       "      <td>182.01</td>\n",
       "      <td>185.00</td>\n",
       "      <td>185.00</td>\n",
       "      <td>96306500</td>\n",
       "    </tr>\n",
       "    <tr>\n",
       "      <th>1</th>\n",
       "      <td>Apr 13, 2023</td>\n",
       "      <td>182.96</td>\n",
       "      <td>186.50</td>\n",
       "      <td>180.94</td>\n",
       "      <td>185.90</td>\n",
       "      <td>185.90</td>\n",
       "      <td>112933000</td>\n",
       "    </tr>\n",
       "    <tr>\n",
       "      <th>2</th>\n",
       "      <td>Apr 12, 2023</td>\n",
       "      <td>190.74</td>\n",
       "      <td>191.58</td>\n",
       "      <td>180.31</td>\n",
       "      <td>180.54</td>\n",
       "      <td>180.54</td>\n",
       "      <td>150256300</td>\n",
       "    </tr>\n",
       "    <tr>\n",
       "      <th>3</th>\n",
       "      <td>Apr 11, 2023</td>\n",
       "      <td>186.69</td>\n",
       "      <td>189.19</td>\n",
       "      <td>185.65</td>\n",
       "      <td>186.79</td>\n",
       "      <td>186.79</td>\n",
       "      <td>115770900</td>\n",
       "    </tr>\n",
       "    <tr>\n",
       "      <th>4</th>\n",
       "      <td>Apr 10, 2023</td>\n",
       "      <td>179.94</td>\n",
       "      <td>185.10</td>\n",
       "      <td>176.11</td>\n",
       "      <td>184.51</td>\n",
       "      <td>184.51</td>\n",
       "      <td>142154600</td>\n",
       "    </tr>\n",
       "  </tbody>\n",
       "</table>\n",
       "</div>"
      ],
      "text/plain": [
       "           Date    Open    High     Low  Close* Adj Close**     Volume\n",
       "0  Apr 14, 2023  183.95  186.28  182.01  185.00      185.00   96306500\n",
       "1  Apr 13, 2023  182.96  186.50  180.94  185.90      185.90  112933000\n",
       "2  Apr 12, 2023  190.74  191.58  180.31  180.54      180.54  150256300\n",
       "3  Apr 11, 2023  186.69  189.19  185.65  186.79      186.79  115770900\n",
       "4  Apr 10, 2023  179.94  185.10  176.11  184.51      184.51  142154600"
      ]
     },
     "execution_count": 25,
     "metadata": {},
     "output_type": "execute_result"
    }
   ],
   "source": [
    "df = pd.read_html(resp.text)[0]\n",
    "\n",
    "df.head()"
   ]
  },
  {
   "cell_type": "code",
   "execution_count": 26,
   "metadata": {},
   "outputs": [
    {
     "data": {
      "text/html": [
       "<div>\n",
       "<style scoped>\n",
       "    .dataframe tbody tr th:only-of-type {\n",
       "        vertical-align: middle;\n",
       "    }\n",
       "\n",
       "    .dataframe tbody tr th {\n",
       "        vertical-align: top;\n",
       "    }\n",
       "\n",
       "    .dataframe thead th {\n",
       "        text-align: right;\n",
       "    }\n",
       "</style>\n",
       "<table border=\"1\" class=\"dataframe\">\n",
       "  <thead>\n",
       "    <tr style=\"text-align: right;\">\n",
       "      <th></th>\n",
       "      <th>Date</th>\n",
       "      <th>Open</th>\n",
       "      <th>High</th>\n",
       "      <th>Low</th>\n",
       "      <th>Close*</th>\n",
       "      <th>Adj Close**</th>\n",
       "      <th>Volume</th>\n",
       "    </tr>\n",
       "  </thead>\n",
       "  <tbody>\n",
       "    <tr>\n",
       "      <th>96</th>\n",
       "      <td>Nov 23, 2022</td>\n",
       "      <td>173.57</td>\n",
       "      <td>183.62</td>\n",
       "      <td>172.50</td>\n",
       "      <td>183.20</td>\n",
       "      <td>183.20</td>\n",
       "      <td>109536700</td>\n",
       "    </tr>\n",
       "    <tr>\n",
       "      <th>97</th>\n",
       "      <td>Nov 22, 2022</td>\n",
       "      <td>168.63</td>\n",
       "      <td>170.92</td>\n",
       "      <td>166.19</td>\n",
       "      <td>169.91</td>\n",
       "      <td>169.91</td>\n",
       "      <td>78452300</td>\n",
       "    </tr>\n",
       "    <tr>\n",
       "      <th>98</th>\n",
       "      <td>Nov 21, 2022</td>\n",
       "      <td>175.85</td>\n",
       "      <td>176.77</td>\n",
       "      <td>167.54</td>\n",
       "      <td>167.87</td>\n",
       "      <td>167.87</td>\n",
       "      <td>92882700</td>\n",
       "    </tr>\n",
       "    <tr>\n",
       "      <th>99</th>\n",
       "      <td>Nov 18, 2022</td>\n",
       "      <td>185.05</td>\n",
       "      <td>185.19</td>\n",
       "      <td>176.55</td>\n",
       "      <td>180.19</td>\n",
       "      <td>180.19</td>\n",
       "      <td>76048900</td>\n",
       "    </tr>\n",
       "    <tr>\n",
       "      <th>100</th>\n",
       "      <td>*Close price adjusted for splits.**Adjusted cl...</td>\n",
       "      <td>*Close price adjusted for splits.**Adjusted cl...</td>\n",
       "      <td>*Close price adjusted for splits.**Adjusted cl...</td>\n",
       "      <td>*Close price adjusted for splits.**Adjusted cl...</td>\n",
       "      <td>*Close price adjusted for splits.**Adjusted cl...</td>\n",
       "      <td>*Close price adjusted for splits.**Adjusted cl...</td>\n",
       "      <td>*Close price adjusted for splits.**Adjusted cl...</td>\n",
       "    </tr>\n",
       "  </tbody>\n",
       "</table>\n",
       "</div>"
      ],
      "text/plain": [
       "                                                  Date  \\\n",
       "96                                        Nov 23, 2022   \n",
       "97                                        Nov 22, 2022   \n",
       "98                                        Nov 21, 2022   \n",
       "99                                        Nov 18, 2022   \n",
       "100  *Close price adjusted for splits.**Adjusted cl...   \n",
       "\n",
       "                                                  Open  \\\n",
       "96                                              173.57   \n",
       "97                                              168.63   \n",
       "98                                              175.85   \n",
       "99                                              185.05   \n",
       "100  *Close price adjusted for splits.**Adjusted cl...   \n",
       "\n",
       "                                                  High  \\\n",
       "96                                              183.62   \n",
       "97                                              170.92   \n",
       "98                                              176.77   \n",
       "99                                              185.19   \n",
       "100  *Close price adjusted for splits.**Adjusted cl...   \n",
       "\n",
       "                                                   Low  \\\n",
       "96                                              172.50   \n",
       "97                                              166.19   \n",
       "98                                              167.54   \n",
       "99                                              176.55   \n",
       "100  *Close price adjusted for splits.**Adjusted cl...   \n",
       "\n",
       "                                                Close*  \\\n",
       "96                                              183.20   \n",
       "97                                              169.91   \n",
       "98                                              167.87   \n",
       "99                                              180.19   \n",
       "100  *Close price adjusted for splits.**Adjusted cl...   \n",
       "\n",
       "                                           Adj Close**  \\\n",
       "96                                              183.20   \n",
       "97                                              169.91   \n",
       "98                                              167.87   \n",
       "99                                              180.19   \n",
       "100  *Close price adjusted for splits.**Adjusted cl...   \n",
       "\n",
       "                                                Volume  \n",
       "96                                           109536700  \n",
       "97                                            78452300  \n",
       "98                                            92882700  \n",
       "99                                            76048900  \n",
       "100  *Close price adjusted for splits.**Adjusted cl...  "
      ]
     },
     "execution_count": 26,
     "metadata": {},
     "output_type": "execute_result"
    }
   ],
   "source": [
    "df.tail()"
   ]
  },
  {
   "attachments": {},
   "cell_type": "markdown",
   "metadata": {},
   "source": [
    "#### Data Cleaning and Treatment"
   ]
  },
  {
   "cell_type": "code",
   "execution_count": 27,
   "metadata": {},
   "outputs": [
    {
     "name": "stdout",
     "output_type": "stream",
     "text": [
      "<class 'pandas.core.frame.DataFrame'>\n",
      "RangeIndex: 101 entries, 0 to 100\n",
      "Data columns (total 7 columns):\n",
      " #   Column       Non-Null Count  Dtype \n",
      "---  ------       --------------  ----- \n",
      " 0   Date         101 non-null    object\n",
      " 1   Open         101 non-null    object\n",
      " 2   High         101 non-null    object\n",
      " 3   Low          101 non-null    object\n",
      " 4   Close*       101 non-null    object\n",
      " 5   Adj Close**  101 non-null    object\n",
      " 6   Volume       101 non-null    object\n",
      "dtypes: object(7)\n",
      "memory usage: 5.6+ KB\n"
     ]
    }
   ],
   "source": [
    "df.info()"
   ]
  },
  {
   "cell_type": "code",
   "execution_count": 28,
   "metadata": {},
   "outputs": [],
   "source": [
    "df = df.drop(df.index[-1])\n",
    "\n",
    "df.Date = pd.to_datetime(df.Date, format=\"%b %d, %Y\")\n",
    "df[\"Close*\"] = df[\"Close*\"].astype(float)\n",
    "\n",
    "df.drop(columns=[\"Open\", \"High\", \"Low\", \"Volume\", \"Adj Close**\"], inplace=True)"
   ]
  },
  {
   "cell_type": "code",
   "execution_count": 29,
   "metadata": {},
   "outputs": [
    {
     "data": {
      "text/html": [
       "<div>\n",
       "<style scoped>\n",
       "    .dataframe tbody tr th:only-of-type {\n",
       "        vertical-align: middle;\n",
       "    }\n",
       "\n",
       "    .dataframe tbody tr th {\n",
       "        vertical-align: top;\n",
       "    }\n",
       "\n",
       "    .dataframe thead th {\n",
       "        text-align: right;\n",
       "    }\n",
       "</style>\n",
       "<table border=\"1\" class=\"dataframe\">\n",
       "  <thead>\n",
       "    <tr style=\"text-align: right;\">\n",
       "      <th></th>\n",
       "      <th>Date</th>\n",
       "      <th>Close*</th>\n",
       "    </tr>\n",
       "  </thead>\n",
       "  <tbody>\n",
       "    <tr>\n",
       "      <th>0</th>\n",
       "      <td>2023-04-14</td>\n",
       "      <td>185.00</td>\n",
       "    </tr>\n",
       "    <tr>\n",
       "      <th>1</th>\n",
       "      <td>2023-04-13</td>\n",
       "      <td>185.90</td>\n",
       "    </tr>\n",
       "    <tr>\n",
       "      <th>2</th>\n",
       "      <td>2023-04-12</td>\n",
       "      <td>180.54</td>\n",
       "    </tr>\n",
       "    <tr>\n",
       "      <th>3</th>\n",
       "      <td>2023-04-11</td>\n",
       "      <td>186.79</td>\n",
       "    </tr>\n",
       "    <tr>\n",
       "      <th>4</th>\n",
       "      <td>2023-04-10</td>\n",
       "      <td>184.51</td>\n",
       "    </tr>\n",
       "  </tbody>\n",
       "</table>\n",
       "</div>"
      ],
      "text/plain": [
       "        Date  Close*\n",
       "0 2023-04-14  185.00\n",
       "1 2023-04-13  185.90\n",
       "2 2023-04-12  180.54\n",
       "3 2023-04-11  186.79\n",
       "4 2023-04-10  184.51"
      ]
     },
     "execution_count": 29,
     "metadata": {},
     "output_type": "execute_result"
    }
   ],
   "source": [
    "df.head()"
   ]
  },
  {
   "cell_type": "code",
   "execution_count": null,
   "metadata": {},
   "outputs": [],
   "source": [
    "df.to_csv(\"tesla.csv\", index=False)"
   ]
  }
 ],
 "metadata": {
  "kernelspec": {
   "display_name": "Python 3",
   "language": "python",
   "name": "python3"
  },
  "language_info": {
   "codemirror_mode": {
    "name": "ipython",
    "version": 3
   },
   "file_extension": ".py",
   "mimetype": "text/x-python",
   "name": "python",
   "nbconvert_exporter": "python",
   "pygments_lexer": "ipython3",
   "version": "3.9.10"
  },
  "orig_nbformat": 4
 },
 "nbformat": 4,
 "nbformat_minor": 2
}
